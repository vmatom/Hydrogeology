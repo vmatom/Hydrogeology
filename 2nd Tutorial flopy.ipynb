{
 "cells": [
  {
   "cell_type": "code",
   "execution_count": 92,
   "id": "f1185cac",
   "metadata": {},
   "outputs": [],
   "source": [
    "# package import\n",
    "import flopy"
   ]
  },
  {
   "cell_type": "code",
   "execution_count": 93,
   "id": "56eab3ea",
   "metadata": {},
   "outputs": [
    {
     "name": "stdout",
     "output_type": "stream",
     "text": [
      "Done creating simulation.\n"
     ]
    },
    {
     "data": {
      "text/plain": [
       "'Настройки Flopy можно установить для всей симуляции, такие как: сколько информации Flopy записывает на консоль,\\nкак форматировать файлы пакета MOdflow и нужно ли проверять данные Modflow'"
      ]
     },
     "execution_count": 93,
     "metadata": {},
     "output_type": "execute_result"
    }
   ],
   "source": [
    "# set up simulation and basic packages\n",
    "# создается простая модель GWF \n",
    "name = \"tutorial02_mf6\"\n",
    "sim = flopy.mf6.MFSimulation(sim_name=name, sim_ws=\".\")\n",
    "flopy.mf6.ModflowTdis(\n",
    "    sim, nper=10, perioddata=[[365.0, 1, 1.0] for _ in range(10)]\n",
    ")\n",
    "flopy.mf6.ModflowIms(sim)\n",
    "gwf = flopy.mf6.ModflowGwf(sim, modelname=name, save_flows=True)\n",
    "flopy.mf6.ModflowGwfdis(gwf, nlay=3, nrow=4, ncol=5)\n",
    "#тут указывается количество слоев (nlay), строк (nrow), столбцов (ncol)\n",
    "flopy.mf6.ModflowGwfic(gwf)\n",
    "flopy.mf6.ModflowGwfnpf(gwf, save_specific_discharge=True)\n",
    "flopy.mf6.ModflowGwfchd(\n",
    "    gwf, stress_period_data=[[(0, 0, 0), 1.0], [(2, 3, 4), 0.0]]\n",
    ")\n",
    "budget_file = f\"{name}.bud\"\n",
    "head_file = f\"{name}.hds\"\n",
    "flopy.mf6.ModflowGwfoc(\n",
    "    gwf,\n",
    "    budget_filerecord=budget_file,\n",
    "    head_filerecord=head_file,\n",
    "    saverecord=[(\"HEAD\", \"ALL\"), (\"BUDGET\", \"ALL\")],\n",
    ")\n",
    "print(\"Done creating simulation.\")\n",
    "#симуляция создана\n",
    "\"\"\"Настройки Flopy можно установить для всей симуляции, такие как: сколько информации Flopy записывает на консоль,\n",
    "как форматировать файлы пакета MOdflow и нужно ли проверять данные Modflow\"\"\""
   ]
  },
  {
   "cell_type": "code",
   "execution_count": 94,
   "id": "9c3dc6fe",
   "metadata": {},
   "outputs": [],
   "source": [
    "\"\"\"уровень детализации вывода информации, т.е. насколько подробно будет расписываться все что происходит в моделировании,\n",
    "в данном случае уровень детализации максимальный (3).\"\"\"\n",
    "sim.simulation_data.verbosity_level = 3"
   ]
  },
  {
   "cell_type": "code",
   "execution_count": 95,
   "id": "7e5b5853",
   "metadata": {},
   "outputs": [],
   "source": [
    "\"\"\"количество пробелов для отступа данных при записи файлов пакета\"\"\"\n",
    "sim.simulation_data.indent_string = \"    \""
   ]
  },
  {
   "cell_type": "code",
   "execution_count": 96,
   "id": "45735141",
   "metadata": {},
   "outputs": [],
   "source": [
    "\"\"\"точность и количество символов, для переменных с плавающей запятой\"\"\"\n",
    "sim.float_precision = 8\n",
    "sim.float_characters = 15"
   ]
  },
  {
   "cell_type": "code",
   "execution_count": 97,
   "id": "922515a8",
   "metadata": {},
   "outputs": [],
   "source": [
    "\"\"\"отлкючаем верифицирование данных для повышения производительности, Flopy не выполняет проверку или автоматическое \n",
    "исправление данных.\n",
    "После кода выше - симуляция уже находится в памяти. В данном случае мы сами задали все параметры с помощью Python.\n",
    "НО она могла быть загружена из существующих файлов модели с помощью функции (FloPy.mf6.MFSimulation.load()) \"\"\"\n",
    "sim.verify_data = False\n",
    "sim.auto_set_sizes = False"
   ]
  },
  {
   "cell_type": "code",
   "execution_count": 98,
   "id": "dab3b6c4",
   "metadata": {},
   "outputs": [
    {
     "name": "stdout",
     "output_type": "stream",
     "text": [
      "sim_name = tutorial02_mf6\n",
      "sim_path = F:\\flopy\\JupiterNotebook\\2nd trial\\.\n",
      "exe_name = mf6\n",
      "\n",
      "###################\n",
      "Package mfsim.nam\n",
      "###################\n",
      "\n",
      "package_name = mfsim.nam\n",
      "filename = mfsim.nam\n",
      "package_type = nam\n",
      "model_or_simulation_package = simulation\n",
      "simulation_name = tutorial02_mf6\n",
      "\n",
      "\n",
      "###################\n",
      "Package tutorial02_mf6.tdis\n",
      "###################\n",
      "\n",
      "package_name = tutorial02_mf6.tdis\n",
      "filename = tutorial02_mf6.tdis\n",
      "package_type = tdis\n",
      "model_or_simulation_package = simulation\n",
      "simulation_name = tutorial02_mf6\n",
      "\n",
      "\n",
      "###################\n",
      "Package ims_-1\n",
      "###################\n",
      "\n",
      "package_name = ims_-1\n",
      "filename = tutorial02_mf6.ims\n",
      "package_type = ims\n",
      "model_or_simulation_package = simulation\n",
      "simulation_name = tutorial02_mf6\n",
      "\n",
      "\n",
      "@@@@@@@@@@@@@@@@@@@@\n",
      "Model tutorial02_mf6\n",
      "@@@@@@@@@@@@@@@@@@@@\n",
      "\n",
      "name = tutorial02_mf6\n",
      "model_type = gwf6\n",
      "version = mf6\n",
      "model_relative_path = .\n",
      "\n",
      "###################\n",
      "Package dis\n",
      "###################\n",
      "\n",
      "package_name = dis\n",
      "filename = tutorial02_mf6.dis\n",
      "package_type = dis\n",
      "model_or_simulation_package = model\n",
      "model_name = tutorial02_mf6\n",
      "\n",
      "\n",
      "###################\n",
      "Package ic\n",
      "###################\n",
      "\n",
      "package_name = ic\n",
      "filename = tutorial02_mf6.ic\n",
      "package_type = ic\n",
      "model_or_simulation_package = model\n",
      "model_name = tutorial02_mf6\n",
      "\n",
      "\n",
      "###################\n",
      "Package npf\n",
      "###################\n",
      "\n",
      "package_name = npf\n",
      "filename = tutorial02_mf6.npf\n",
      "package_type = npf\n",
      "model_or_simulation_package = model\n",
      "model_name = tutorial02_mf6\n",
      "\n",
      "\n",
      "###################\n",
      "Package chd_0\n",
      "###################\n",
      "\n",
      "package_name = chd_0\n",
      "filename = tutorial02_mf6.chd\n",
      "package_type = chd\n",
      "model_or_simulation_package = model\n",
      "model_name = tutorial02_mf6\n",
      "\n",
      "\n",
      "###################\n",
      "Package oc\n",
      "###################\n",
      "\n",
      "package_name = oc\n",
      "filename = tutorial02_mf6.oc\n",
      "package_type = oc\n",
      "model_or_simulation_package = model\n",
      "model_name = tutorial02_mf6\n",
      "\n",
      "\n",
      "\n",
      "\n"
     ]
    }
   ],
   "source": [
    "print(sim)\n",
    "#вывод симуляциии"
   ]
  },
  {
   "cell_type": "code",
   "execution_count": 99,
   "id": "580e6b2e",
   "metadata": {},
   "outputs": [
    {
     "name": "stdout",
     "output_type": "stream",
     "text": [
      "package_name = tutorial02_mf6.tdis\n",
      "filename = tutorial02_mf6.tdis\n",
      "package_type = tdis\n",
      "model_or_simulation_package = simulation\n",
      "simulation_name = tutorial02_mf6\n",
      "\n",
      "Block dimensions\n",
      "--------------------\n",
      "nper\n",
      "{internal}\n",
      "(10)\n",
      "\n",
      "\n",
      "Block perioddata\n",
      "--------------------\n",
      "perioddata\n",
      "{internal}\n",
      "([(365., 1, 1.) (365., 1, 1.) (365., 1, 1.) (365., 1, 1.) (365., 1, 1.)\n",
      " (365., 1, 1.) (365., 1, 1.) (365., 1, 1.) (365., 1, 1.) (365., 1, 1.)])\n",
      "\n",
      "\n",
      "\n"
     ]
    }
   ],
   "source": [
    "\"\"\"temporal descritization (TDIS) - временная дискретизация. В результате введенных строк мы сможем получить пакет TDIS\n",
    "и распечатать его составляющие\"\"\"\n",
    "tdis = sim.tdis\n",
    "print(tdis)"
   ]
  },
  {
   "cell_type": "code",
   "execution_count": 100,
   "id": "f15e0b29",
   "metadata": {},
   "outputs": [
    {
     "name": "stdout",
     "output_type": "stream",
     "text": [
      "package_name = ims_-1\n",
      "filename = tutorial02_mf6.ims\n",
      "package_type = ims\n",
      "model_or_simulation_package = simulation\n",
      "simulation_name = tutorial02_mf6\n",
      "\n",
      "\n"
     ]
    }
   ],
   "source": [
    "\"\"\"IMS - iterative model solution  - https://water.usgs.gov/nrp/gwsoftware/ModelMuse/Help/sms_sparse_matrix_solution_pac.htm\n",
    "получаем объект IMS используя синтаксис ниже. \"\"\"\n",
    "ims = sim.get_package(\"ims_-1\")\n",
    "print(ims)"
   ]
  },
  {
   "cell_type": "code",
   "execution_count": 101,
   "id": "4ad0af3e",
   "metadata": {},
   "outputs": [
    {
     "name": "stdout",
     "output_type": "stream",
     "text": [
      "package_name = ims_-1\n",
      "filename = tutorial02_mf6.ims\n",
      "package_type = ims\n",
      "model_or_simulation_package = simulation\n",
      "simulation_name = tutorial02_mf6\n",
      "\n",
      "\n"
     ]
    }
   ],
   "source": [
    "\"\"\"так как в этой симуляции один объект, можно получить к нему доступ следующим образом\"\"\"\n",
    "ims = sim.get_package(\"ims\")\n",
    "print(ims)"
   ]
  },
  {
   "cell_type": "code",
   "execution_count": 102,
   "id": "daf05b3a",
   "metadata": {},
   "outputs": [
    {
     "name": "stdout",
     "output_type": "stream",
     "text": [
      "package_name = mfsim.nam\n",
      "filename = mfsim.nam\n",
      "package_type = nam\n",
      "model_or_simulation_package = simulation\n",
      "simulation_name = tutorial02_mf6\n",
      "\n",
      "Block timing\n",
      "--------------------\n",
      "tdis6\n",
      "{internal}\n",
      "(tutorial02_mf6.tdis)\n",
      "\n",
      "\n",
      "Block models\n",
      "--------------------\n",
      "models\n",
      "{internal}\n",
      "([('gwf6', 'tutorial02_mf6.nam', 'tutorial02_mf6')])\n",
      "\n",
      "\n",
      "Block solutiongroup\n",
      "--------------------\n",
      "solutiongroup\n",
      "{internal}\n",
      "([('ims6', 'tutorial02_mf6.ims', 'tutorial02_mf6')])\n",
      "\n",
      "\n",
      "\n"
     ]
    }
   ],
   "source": [
    "\"\"\"при печати объекта SIM используется пакет NAM. Этот пакет содержит информацию, которая записывается в (mfsim.nam), \n",
    "этот файлы является основным, Modflow 6 считывает при первом запуске\"\"\"\n",
    "nam = sim.get_package(\"nam\")\n",
    "print(nam)"
   ]
  },
  {
   "cell_type": "code",
   "execution_count": 103,
   "id": "785f6b74",
   "metadata": {},
   "outputs": [
    {
     "name": "stdout",
     "output_type": "stream",
     "text": [
      "dict_keys(['tutorial02_mf6'])\n"
     ]
    }
   ],
   "source": [
    "\"\"\"для отображения моделей содержащихся в симуляции, можно получить список их имен\"\"\"\n",
    "print(sim.model_names)"
   ]
  },
  {
   "cell_type": "code",
   "execution_count": 104,
   "id": "e907d4ad",
   "metadata": {},
   "outputs": [
    {
     "name": "stdout",
     "output_type": "stream",
     "text": [
      "tutorial02_mf6\n"
     ]
    }
   ],
   "source": [
    "#sim.model_names - возвращает ключи упорядоченного словаря, но его можно преобразовать в список, а затем просмотреть список\n",
    "#и вывести информацию о каждой модели в моделировании. В данном случае только одна модель имеется.\n",
    "model_names = list(sim.model_names)\n",
    "for mname in model_names:\n",
    "    print(mname)"
   ]
  },
  {
   "cell_type": "code",
   "execution_count": 105,
   "id": "17a751f7",
   "metadata": {},
   "outputs": [
    {
     "name": "stdout",
     "output_type": "stream",
     "text": [
      "tutorial02_mf6 gwf6\n"
     ]
    }
   ],
   "source": [
    "\"\"\"если мы хотим получить модель из симуляции, используем get.model() метод объекта sim.\n",
    "Тут мы можем просмотреть все модели в симуляции и печатаем имя модели и её тип\"\"\"\n",
    "model_names = list(sim.model_names)\n",
    "for mname in model_names:\n",
    "    m = sim.get_model(mname)\n",
    "    print(m.name, m.model_type)"
   ]
  },
  {
   "cell_type": "code",
   "execution_count": 106,
   "id": "9a5c4bd0",
   "metadata": {},
   "outputs": [],
   "source": [
    "\"\"\"в данном случае рассматривается простой случай с одной GWF моделью можно получить FLOPY-представление следующим образом\"\"\"\n",
    "gwf = sim.get_model(\"tutorial02_mf6\")"
   ]
  },
  {
   "cell_type": "code",
   "execution_count": 107,
   "id": "aa6b442c",
   "metadata": {},
   "outputs": [
    {
     "name": "stdout",
     "output_type": "stream",
     "text": [
      "name = tutorial02_mf6\n",
      "model_type = gwf6\n",
      "version = mf6\n",
      "model_relative_path = .\n",
      "\n",
      "###################\n",
      "Package dis\n",
      "###################\n",
      "\n",
      "package_name = dis\n",
      "filename = tutorial02_mf6.dis\n",
      "package_type = dis\n",
      "model_or_simulation_package = model\n",
      "model_name = tutorial02_mf6\n",
      "\n",
      "\n",
      "###################\n",
      "Package ic\n",
      "###################\n",
      "\n",
      "package_name = ic\n",
      "filename = tutorial02_mf6.ic\n",
      "package_type = ic\n",
      "model_or_simulation_package = model\n",
      "model_name = tutorial02_mf6\n",
      "\n",
      "\n",
      "###################\n",
      "Package npf\n",
      "###################\n",
      "\n",
      "package_name = npf\n",
      "filename = tutorial02_mf6.npf\n",
      "package_type = npf\n",
      "model_or_simulation_package = model\n",
      "model_name = tutorial02_mf6\n",
      "\n",
      "\n",
      "###################\n",
      "Package chd_0\n",
      "###################\n",
      "\n",
      "package_name = chd_0\n",
      "filename = tutorial02_mf6.chd\n",
      "package_type = chd\n",
      "model_or_simulation_package = model\n",
      "model_name = tutorial02_mf6\n",
      "\n",
      "\n",
      "###################\n",
      "Package oc\n",
      "###################\n",
      "\n",
      "package_name = oc\n",
      "filename = tutorial02_mf6.oc\n",
      "package_type = oc\n",
      "model_or_simulation_package = model\n",
      "model_name = tutorial02_mf6\n",
      "\n",
      "\n",
      "\n"
     ]
    },
    {
     "data": {
      "text/plain": [
       "'Информация та же, что и получена после распечатки sim-объекта'"
      ]
     },
     "execution_count": 107,
     "metadata": {},
     "output_type": "execute_result"
    }
   ],
   "source": [
    "\"\"\"после создания gwf объекта (выше строчкой) можно распечатать его и посмотреть его содержимое\"\"\"\n",
    "print(gwf)\n",
    "\"\"\"Информация та же, что и получена после распечатки sim-объекта\"\"\""
   ]
  },
  {
   "cell_type": "code",
   "execution_count": 108,
   "id": "364a4ecb",
   "metadata": {},
   "outputs": [
    {
     "name": "stdout",
     "output_type": "stream",
     "text": [
      "['DIS', 'IC', 'NPF', 'CHD_0', 'OC']\n"
     ]
    }
   ],
   "source": [
    "\"\"\"используемые моделью пакеты можно получить следующим образом\"\"\"\n",
    "package_list = gwf.get_package_list()\n",
    "print(package_list)"
   ]
  },
  {
   "cell_type": "code",
   "execution_count": 111,
   "id": "8ce6991f",
   "metadata": {},
   "outputs": [
    {
     "name": "stdout",
     "output_type": "stream",
     "text": [
      "package_name = ic\n",
      "filename = tutorial02_mf6.ic\n",
      "package_type = ic\n",
      "model_or_simulation_package = model\n",
      "model_name = tutorial02_mf6\n",
      "\n",
      "Block griddata\n",
      "--------------------\n",
      "strt\n",
      "{constant 1.0}\n",
      "\n",
      "\n",
      "\n"
     ]
    }
   ],
   "source": [
    "\"\"\"далее мы можем получить доступ к каждому пакету в этом списке с помощью gwf.get_package(). Например для получения\n",
    "информации по пакету DIS см. ниже\"\"\"\n",
    "dis = gwf.get_package(\"ic\")\n",
    "print(dis)"
   ]
  },
  {
   "cell_type": "code",
   "execution_count": 110,
   "id": "13615e57",
   "metadata": {},
   "outputs": [
    {
     "name": "stdout",
     "output_type": "stream",
     "text": [
      "<class 'flopy.mf6.modflow.mfgwfdis.ModflowGwfdis'>\n"
     ]
    }
   ],
   "source": [
    "\"\"\"выведение типа dis-пакета в Python\"\"\"\n",
    "print(type(dis))"
   ]
  },
  {
   "cell_type": "code",
   "execution_count": null,
   "id": "c235e86e",
   "metadata": {},
   "outputs": [],
   "source": []
  }
 ],
 "metadata": {
  "kernelspec": {
   "display_name": "Python 3 (ipykernel)",
   "language": "python",
   "name": "python3"
  },
  "language_info": {
   "codemirror_mode": {
    "name": "ipython",
    "version": 3
   },
   "file_extension": ".py",
   "mimetype": "text/x-python",
   "name": "python",
   "nbconvert_exporter": "python",
   "pygments_lexer": "ipython3",
   "version": "3.11.2"
  }
 },
 "nbformat": 4,
 "nbformat_minor": 5
}
